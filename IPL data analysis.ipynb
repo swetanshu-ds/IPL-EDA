{
 "cells": [
  {
   "cell_type": "markdown",
   "id": "459011fa",
   "metadata": {},
   "source": [
    "![](maxresdefault.png)"
   ]
  },
  {
   "cell_type": "markdown",
   "id": "f99a8f23",
   "metadata": {},
   "source": [
    "![](IPL.png)"
   ]
  },
  {
   "cell_type": "markdown",
   "id": "057ff30a",
   "metadata": {},
   "source": [
    "######  Importing important libraries   "
   ]
  },
  {
   "cell_type": "code",
   "execution_count": null,
   "id": "fbd02a34",
   "metadata": {},
   "outputs": [],
   "source": [
    "import pandas as pd\n",
    "import numpy as np\n",
    "import seaborn as sns\n",
    "import matplotlib.pyplot as plt\n",
    "%matplotlib inline"
   ]
  },
  {
   "cell_type": "markdown",
   "id": "e9cfff51",
   "metadata": {},
   "source": [
    "###### Importing datasets"
   ]
  },
  {
   "cell_type": "code",
   "execution_count": null,
   "id": "654756c3",
   "metadata": {},
   "outputs": [],
   "source": [
    "df = pd.read_csv(\"deliveries.csv\")"
   ]
  },
  {
   "cell_type": "code",
   "execution_count": null,
   "id": "1cc10619",
   "metadata": {},
   "outputs": [],
   "source": [
    "df1 = pd.read_csv('matches.csv')"
   ]
  },
  {
   "cell_type": "markdown",
   "id": "90f59035",
   "metadata": {},
   "source": [
    "###### Show top 5 rows of the datasets"
   ]
  },
  {
   "cell_type": "code",
   "execution_count": null,
   "id": "a545a27e",
   "metadata": {},
   "outputs": [],
   "source": [
    "df.head()"
   ]
  },
  {
   "cell_type": "code",
   "execution_count": null,
   "id": "d5cec7f6",
   "metadata": {},
   "outputs": [],
   "source": [
    "df1.head()"
   ]
  },
  {
   "cell_type": "markdown",
   "id": "e4c66e1c",
   "metadata": {},
   "source": [
    "######  Missing data"
   ]
  },
  {
   "cell_type": "code",
   "execution_count": null,
   "id": "7be18471",
   "metadata": {},
   "outputs": [],
   "source": [
    "df.isnull()"
   ]
  },
  {
   "cell_type": "code",
   "execution_count": null,
   "id": "15b97a83",
   "metadata": {},
   "outputs": [],
   "source": [
    "df1.isnull()"
   ]
  },
  {
   "cell_type": "code",
   "execution_count": null,
   "id": "52ae029d",
   "metadata": {},
   "outputs": [],
   "source": [
    "df.shape"
   ]
  },
  {
   "cell_type": "code",
   "execution_count": null,
   "id": "a4876cbe",
   "metadata": {},
   "outputs": [],
   "source": [
    "df1.shape"
   ]
  },
  {
   "cell_type": "code",
   "execution_count": null,
   "id": "7b75a9f1",
   "metadata": {},
   "outputs": [],
   "source": [
    "df.size"
   ]
  },
  {
   "cell_type": "code",
   "execution_count": null,
   "id": "4c2ce14c",
   "metadata": {},
   "outputs": [],
   "source": [
    "df1.size"
   ]
  },
  {
   "cell_type": "markdown",
   "id": "420da95d",
   "metadata": {},
   "source": [
    "###### Columns of the datasets"
   ]
  },
  {
   "cell_type": "code",
   "execution_count": null,
   "id": "fd6f94be",
   "metadata": {},
   "outputs": [],
   "source": [
    "df.columns"
   ]
  },
  {
   "cell_type": "code",
   "execution_count": null,
   "id": "206f8706",
   "metadata": {},
   "outputs": [],
   "source": [
    "df1.columns"
   ]
  },
  {
   "cell_type": "code",
   "execution_count": null,
   "id": "042f8bac",
   "metadata": {},
   "outputs": [],
   "source": [
    "#####   data types of datasets"
   ]
  },
  {
   "cell_type": "code",
   "execution_count": null,
   "id": "071c226c",
   "metadata": {},
   "outputs": [],
   "source": [
    "df.dtypes"
   ]
  },
  {
   "cell_type": "code",
   "execution_count": null,
   "id": "9b26d90a",
   "metadata": {},
   "outputs": [],
   "source": [
    "df1.dtypes"
   ]
  },
  {
   "cell_type": "code",
   "execution_count": null,
   "id": "3875357a",
   "metadata": {},
   "outputs": [],
   "source": [
    "df.info()"
   ]
  },
  {
   "cell_type": "code",
   "execution_count": null,
   "id": "ee703262",
   "metadata": {},
   "outputs": [],
   "source": [
    "df1.info()"
   ]
  },
  {
   "cell_type": "code",
   "execution_count": null,
   "id": "36e2643d",
   "metadata": {},
   "outputs": [],
   "source": [
    "df.describe()"
   ]
  },
  {
   "cell_type": "code",
   "execution_count": null,
   "id": "b8e53374",
   "metadata": {},
   "outputs": [],
   "source": [
    "df1.describe()"
   ]
  },
  {
   "cell_type": "code",
   "execution_count": null,
   "id": "c05df423",
   "metadata": {},
   "outputs": [],
   "source": [
    "###### check duplicates values"
   ]
  },
  {
   "cell_type": "code",
   "execution_count": null,
   "id": "88300110",
   "metadata": {},
   "outputs": [],
   "source": [
    "df[df.duplicated()]"
   ]
  },
  {
   "cell_type": "code",
   "execution_count": null,
   "id": "7eaf577d",
   "metadata": {},
   "outputs": [],
   "source": [
    "#   there are 23 rows that are duplicates in df dataset"
   ]
  },
  {
   "cell_type": "code",
   "execution_count": null,
   "id": "2247fff0",
   "metadata": {},
   "outputs": [],
   "source": [
    "df1[df1.duplicated()]"
   ]
  },
  {
   "cell_type": "code",
   "execution_count": null,
   "id": "3c45a598",
   "metadata": {},
   "outputs": [],
   "source": [
    "###########   there is no duplicates in df1 dataset"
   ]
  },
  {
   "cell_type": "markdown",
   "id": "84e28740",
   "metadata": {},
   "source": [
    "######  Remove duplicated records"
   ]
  },
  {
   "cell_type": "code",
   "execution_count": null,
   "id": "19774806",
   "metadata": {},
   "outputs": [],
   "source": [
    "df.drop_duplicates(inplace=True)"
   ]
  },
  {
   "cell_type": "code",
   "execution_count": null,
   "id": "144e5219",
   "metadata": {},
   "outputs": [],
   "source": [
    "df1.drop_duplicates(inplace=True)"
   ]
  },
  {
   "cell_type": "code",
   "execution_count": null,
   "id": "4cbdc58d",
   "metadata": {},
   "outputs": [],
   "source": [
    "####   Now check shape and size of the datasets after dropping duplicates "
   ]
  },
  {
   "cell_type": "code",
   "execution_count": null,
   "id": "8ba3fda3",
   "metadata": {},
   "outputs": [],
   "source": [
    "df.shape"
   ]
  },
  {
   "cell_type": "code",
   "execution_count": null,
   "id": "2b72782b",
   "metadata": {},
   "outputs": [],
   "source": [
    "df.size"
   ]
  },
  {
   "cell_type": "code",
   "execution_count": null,
   "id": "f31d66bd",
   "metadata": {},
   "outputs": [],
   "source": [
    "df1.shape"
   ]
  },
  {
   "cell_type": "code",
   "execution_count": null,
   "id": "8d3381db",
   "metadata": {},
   "outputs": [],
   "source": [
    "df1.size"
   ]
  },
  {
   "cell_type": "markdown",
   "id": "ba9deccd",
   "metadata": {},
   "source": [
    "Now check missing values"
   ]
  },
  {
   "cell_type": "code",
   "execution_count": null,
   "id": "43363cf9",
   "metadata": {},
   "outputs": [],
   "source": [
    "df.isnull().sum()"
   ]
  },
  {
   "cell_type": "code",
   "execution_count": null,
   "id": "3c5d578c",
   "metadata": {},
   "outputs": [],
   "source": [
    "#######   there are so many missing values in player_dismissed,dismissal_kind,fielder  columns"
   ]
  },
  {
   "cell_type": "code",
   "execution_count": null,
   "id": "fb7c5d1f",
   "metadata": {},
   "outputs": [],
   "source": [
    "df1.isnull().sum()"
   ]
  },
  {
   "cell_type": "code",
   "execution_count": null,
   "id": "46e0119a",
   "metadata": {},
   "outputs": [],
   "source": [
    "#######   there are so many missing values in city,winner,player_of_match,umpire1,umpire2,umpire3"
   ]
  },
  {
   "cell_type": "code",
   "execution_count": null,
   "id": "f1c627ef",
   "metadata": {},
   "outputs": [],
   "source": [
    "#####  Check total unique values"
   ]
  },
  {
   "cell_type": "code",
   "execution_count": null,
   "id": "4586001a",
   "metadata": {},
   "outputs": [],
   "source": [
    "df.nunique()"
   ]
  },
  {
   "cell_type": "code",
   "execution_count": null,
   "id": "470f8596",
   "metadata": {},
   "outputs": [],
   "source": [
    "df1.nunique()"
   ]
  },
  {
   "cell_type": "markdown",
   "id": "df27452e",
   "metadata": {},
   "source": [
    "### Now merge the datasets df and df1"
   ]
  },
  {
   "cell_type": "code",
   "execution_count": null,
   "id": "fc683fbd",
   "metadata": {},
   "outputs": [],
   "source": [
    "df2 = pd.merge(df,df1,left_on='match_id',right_on=\"id\")"
   ]
  },
  {
   "cell_type": "code",
   "execution_count": null,
   "id": "7ff3bb49",
   "metadata": {},
   "outputs": [],
   "source": [
    "df2.head()"
   ]
  },
  {
   "cell_type": "code",
   "execution_count": null,
   "id": "bd73da02",
   "metadata": {},
   "outputs": [],
   "source": [
    "df2.describe()"
   ]
  },
  {
   "cell_type": "markdown",
   "id": "0734b05a",
   "metadata": {},
   "source": [
    "##  Visualizing our data"
   ]
  },
  {
   "cell_type": "markdown",
   "id": "87355465",
   "metadata": {},
   "source": [
    "#####   Total runs in each innings in all IPL season"
   ]
  },
  {
   "cell_type": "code",
   "execution_count": null,
   "id": "7c34c219",
   "metadata": {},
   "outputs": [],
   "source": [
    "x=df2['inning'].unique()\n",
    "x"
   ]
  },
  {
   "cell_type": "code",
   "execution_count": null,
   "id": "721bb158",
   "metadata": {},
   "outputs": [],
   "source": [
    "l=[]\n",
    "for i in df2['inning'].unique():\n",
    "    print(df2[df2['inning']==i]['total_runs'].sum())\n",
    "    l.append(df2[df2['inning']==i]['total_runs'].sum())"
   ]
  },
  {
   "cell_type": "code",
   "execution_count": null,
   "id": "f701fa0e",
   "metadata": {},
   "outputs": [],
   "source": [
    "plt.figure(figsize=(24,8))\n",
    "plt.plot(x,l,color='green', marker='o', linestyle='dashed',markersize=12)\n",
    "plt.xlabel(\"Innings number\")\n",
    "plt.ylabel(\"total runs made\")\n",
    "plt.show()        "
   ]
  },
  {
   "cell_type": "markdown",
   "id": "90817118",
   "metadata": {},
   "source": [
    "######  Total runs made in each city"
   ]
  },
  {
   "cell_type": "code",
   "execution_count": null,
   "id": "74e91257",
   "metadata": {},
   "outputs": [],
   "source": [
    "plt.figure(figsize=(16,16))\n",
    "sns.countplot(x=df2['city'],data=df2)\n",
    "plt.xlabel(\"city name\")\n",
    "plt.ylabel('total runs')\n",
    "plt.xticks(rotation = 90)\n",
    "plt.show()"
   ]
  },
  {
   "cell_type": "markdown",
   "id": "a02da76a",
   "metadata": {},
   "source": [
    "######  Total runs scored by team"
   ]
  },
  {
   "cell_type": "code",
   "execution_count": null,
   "id": "ba6e61e4",
   "metadata": {},
   "outputs": [],
   "source": [
    "plt.figure(figsize=(16,16))\n",
    "sns.countplot(x='winner',data=df2)\n",
    "plt.title(\"team scored total runs\")\n",
    "plt.xlabel(\"team name\")\n",
    "plt.ylabel('Total runs')\n",
    "plt.xticks(rotation=90)\n",
    "plt.show()"
   ]
  },
  {
   "cell_type": "markdown",
   "id": "da505bfe",
   "metadata": {},
   "source": [
    "######  Number of unique stadiums teams played on"
   ]
  },
  {
   "cell_type": "code",
   "execution_count": null,
   "id": "805d68f2",
   "metadata": {},
   "outputs": [],
   "source": [
    "plt.figure(figsize=(16,16))\n",
    "df2.groupby('batting_team')['venue'].nunique().plot(kind='bar',fontsize=22)\n",
    "plt.xlabel('Team name')\n",
    "plt.ylabel('Played match on a stadium')"
   ]
  },
  {
   "cell_type": "markdown",
   "id": "0089230a",
   "metadata": {},
   "source": [
    "######   Teams Played in each season"
   ]
  },
  {
   "cell_type": "code",
   "execution_count": null,
   "id": "83349e00",
   "metadata": {},
   "outputs": [],
   "source": [
    "plt.figure(figsize = (16,16))\n",
    "df2.groupby('season')['team1'].nunique().plot(kind='bar')\n",
    "plt.title('Team played in each season',fontsize=30)\n",
    "plt.xlabel(\"Season\",fontsize=30)\n",
    "plt.ylabel(\"number of team\",fontsize=15)"
   ]
  },
  {
   "cell_type": "markdown",
   "id": "6d880110",
   "metadata": {},
   "source": [
    "from upper bar chart we can say that in 2011 most team played in across all seasons"
   ]
  },
  {
   "cell_type": "markdown",
   "id": "509ad65b",
   "metadata": {},
   "source": [
    "##### Number of times a team won a match"
   ]
  },
  {
   "cell_type": "code",
   "execution_count": null,
   "id": "3add4502",
   "metadata": {},
   "outputs": [],
   "source": [
    "plt.figure(figsize=(20,20))\n",
    "df1['winner'].value_counts().plot(kind='bar',fontsize=30)\n",
    "plt.xlabel('team name')\n",
    "plt.ylabel('number of times a team won a match')\n",
    "plt.xticks(rotation=90)\n",
    "plt.show()"
   ]
  },
  {
   "cell_type": "markdown",
   "id": "8a9c2d3a",
   "metadata": {},
   "source": [
    "####   Team played as team 2 in each season"
   ]
  },
  {
   "cell_type": "code",
   "execution_count": null,
   "id": "80494360",
   "metadata": {},
   "outputs": [],
   "source": [
    "plt.figure(figsize=(32,20))\n",
    "df1.groupby('team2')['season'].nunique().plot(x=df1,kind='bar',fontsize=30)\n",
    "plt.xlabel('team name',fontsize=40)\n",
    "plt.ylabel(\"number of times\",fontsize=40)\n",
    "plt.xticks(rotation=90)\n",
    "plt.show()"
   ]
  },
  {
   "cell_type": "markdown",
   "id": "c6cd5ab3",
   "metadata": {},
   "source": [
    "######  Venue most runs made"
   ]
  },
  {
   "cell_type": "code",
   "execution_count": null,
   "id": "228a83f0",
   "metadata": {},
   "outputs": [],
   "source": [
    "df2['venue'].value_counts()"
   ]
  },
  {
   "cell_type": "code",
   "execution_count": null,
   "id": "181a4ab5",
   "metadata": {},
   "outputs": [],
   "source": [
    "plt.figure(figsize=(16,16))\n",
    "sns.countplot(x='venue',data=df2)\n",
    "plt.title(\"Venue where most IPL matches played\",fontsize=30)\n",
    "plt.xticks(rotation=90)\n",
    "plt.xlabel(\"venue name\",fontsize=40)\n",
    "plt.ylabel('Number of runs',fontsize=40)"
   ]
  },
  {
   "cell_type": "markdown",
   "id": "e57a7574",
   "metadata": {},
   "source": [
    "######  Venue most hosted"
   ]
  },
  {
   "cell_type": "code",
   "execution_count": null,
   "id": "ac607fa2",
   "metadata": {},
   "outputs": [],
   "source": [
    "plt.figure(figsize=(16,16))\n",
    "sns.countplot(x=df1['venue'])\n",
    "plt.xlabel('venue_name',fontsize=30)\n",
    "plt.ylabel('number of times',fontsize=30)\n",
    "plt.xticks(rotation=90)\n",
    "plt.show()"
   ]
  },
  {
   "cell_type": "markdown",
   "id": "6c747727",
   "metadata": {},
   "source": [
    "Eden garden was the place where most number of matches was played"
   ]
  },
  {
   "cell_type": "markdown",
   "id": "5437d21d",
   "metadata": {},
   "source": [
    "######   Season wise winning teams"
   ]
  },
  {
   "cell_type": "code",
   "execution_count": null,
   "id": "90079f3b",
   "metadata": {},
   "outputs": [],
   "source": [
    "x=df2[['season','winner']]\n",
    "team_name = {}\n",
    "for i in sorted(x.season.unique()):\n",
    "    team_name[i]=x[x.season==i]['winner'].tail(1).values[0]\n",
    "winners=pd.Series(team_name)\n",
    "winners = pd.DataFrame(winners,columns=['team_name'])\n",
    "print(\"Winner are\",winners)"
   ]
  },
  {
   "cell_type": "code",
   "execution_count": null,
   "id": "97c70222",
   "metadata": {},
   "outputs": [],
   "source": [
    "plt.figure(figsize=(8,8))\n",
    "winners['team_name'].value_counts().plot(kind='bar')\n",
    "plt.title('Winners of IPL ',fontsize=30)\n",
    "plt.xlabel(\"team\",fontsize=30)\n",
    "plt.ylabel(\"No. of times won \",fontsize=30)"
   ]
  },
  {
   "cell_type": "markdown",
   "id": "fb63d3df",
   "metadata": {},
   "source": [
    "###### How many choose to ball and bat first?"
   ]
  },
  {
   "cell_type": "code",
   "execution_count": null,
   "id": "8459ca86",
   "metadata": {},
   "outputs": [],
   "source": [
    "sns.countplot(x=df1['toss_decision'],data=df1)\n",
    "plt.xlabel(\"choosen bat or field\")\n",
    "plt.ylabel(\"number of times\")\n",
    "plt.show()"
   ]
  },
  {
   "cell_type": "code",
   "execution_count": null,
   "id": "f62038fd",
   "metadata": {},
   "outputs": [],
   "source": [
    "######   so most of the teams choose to field first "
   ]
  },
  {
   "cell_type": "markdown",
   "id": "50a661ab",
   "metadata": {},
   "source": [
    "####  How many times a team choose to ball first only in all seasons"
   ]
  },
  {
   "cell_type": "code",
   "execution_count": null,
   "id": "d4dc289b",
   "metadata": {},
   "outputs": [],
   "source": [
    "plt.figure(figsize=(16,16))\n",
    "df2.groupby('bowling_team')['season'].nunique().plot(kind='bar')\n",
    "plt.xticks(rotation=90)\n",
    "plt.xlabel(\"team name\")\n",
    "plt.ylabel(\"frequency\")\n",
    "plt.show()"
   ]
  },
  {
   "cell_type": "markdown",
   "id": "37fdd692",
   "metadata": {},
   "source": [
    "#####   How many chooses to field first and won ?"
   ]
  },
  {
   "cell_type": "code",
   "execution_count": null,
   "id": "b8a652af",
   "metadata": {},
   "outputs": [],
   "source": [
    "plt.figure(figsize=(14,14))\n",
    "sns.countplot(x=df1[df1['toss_decision']=='field']['winner'])\n",
    "plt.xticks(rotation=90)\n",
    "plt.ylabel('counts')\n",
    "plt.show()"
   ]
  },
  {
   "cell_type": "markdown",
   "id": "a637b45a",
   "metadata": {},
   "source": [
    "##### How many chooses to bat first and won ?"
   ]
  },
  {
   "cell_type": "code",
   "execution_count": null,
   "id": "830af4cf",
   "metadata": {},
   "outputs": [],
   "source": [
    "plt.figure(figsize=(16,16))\n",
    "sns.countplot(x=df1[df1['toss_decision']=='bat']['winner'])\n",
    "plt.xticks(rotation=90)\n",
    "plt.ylabel('counts')\n",
    "plt.show()"
   ]
  },
  {
   "cell_type": "markdown",
   "id": "97889f82",
   "metadata": {},
   "source": [
    "###### Most time man of the match"
   ]
  },
  {
   "cell_type": "code",
   "execution_count": null,
   "id": "15dffa34",
   "metadata": {},
   "outputs": [],
   "source": [
    "plt.figure(figsize=(16,16))\n",
    "df1['player_of_match'].value_counts().head(10).plot(kind='bar')\n",
    "plt.xlabel('Player name',fontsize=24)\n",
    "plt.ylabel('Number of times became man of the match',fontsize=24)"
   ]
  },
  {
   "cell_type": "markdown",
   "id": "3dea1bbd",
   "metadata": {},
   "source": [
    "######  Highest run makers of IPL"
   ]
  },
  {
   "cell_type": "code",
   "execution_count": null,
   "id": "7eaeefcc",
   "metadata": {},
   "outputs": [],
   "source": [
    "plt.figure(figsize=(16,16))\n",
    "df.groupby('batsman')['batsman_runs'].sum().sort_values().tail(10).plot(kind='bar')\n",
    "plt.title(\"Top scores of IPL\",fontsize=15)\n",
    "plt.xlabel('Player name',fontsize=24)\n",
    "plt.xticks(rotation=90)\n",
    "plt.ylabel('Runs got',fontsize=24)"
   ]
  },
  {
   "cell_type": "markdown",
   "id": "2b574e0d",
   "metadata": {},
   "source": [
    "Kohli and Raina are the top run makers of IPL"
   ]
  },
  {
   "cell_type": "markdown",
   "id": "59b7a445",
   "metadata": {},
   "source": [
    "#####  Total runs made in each season"
   ]
  },
  {
   "cell_type": "code",
   "execution_count": null,
   "id": "f8435eeb",
   "metadata": {},
   "outputs": [],
   "source": [
    "plt.figure(figsize=(16,16))\n",
    "df2.groupby('season')['total_runs'].sum().plot(kind='bar')\n",
    "plt.xlabel('season')\n",
    "plt.ylabel('total runs')\n",
    "plt.xticks(rotation=90)\n",
    "plt.show()"
   ]
  },
  {
   "cell_type": "code",
   "execution_count": null,
   "id": "26dadc6f",
   "metadata": {},
   "outputs": [],
   "source": [
    "####  From above diagram we can see that ,in year 2013 ,season have most of the runs"
   ]
  },
  {
   "cell_type": "markdown",
   "id": "7b5dde28",
   "metadata": {},
   "source": [
    "Highest runs was made in 2013"
   ]
  },
  {
   "cell_type": "markdown",
   "id": "d6a50dce",
   "metadata": {},
   "source": [
    "###### Top wicket takers of IPL"
   ]
  },
  {
   "cell_type": "code",
   "execution_count": null,
   "id": "04edfc23",
   "metadata": {},
   "outputs": [],
   "source": [
    "plt.figure(figsize=(16,16))\n",
    "df.groupby('bowler')['player_dismissed'].count().sort_values().tail(10).plot(kind='bar')\n",
    "plt.title(\"Top wicket wickets of IPL\",fontsize=15)\n",
    "plt.xlabel('Bowlers',fontsize=24)\n",
    "plt.xticks(rotation=90)\n",
    "plt.ylabel('Total wickets taken')"
   ]
  },
  {
   "cell_type": "markdown",
   "id": "a42e798d",
   "metadata": {},
   "source": [
    "Malinga and then Bravo has taken highest wickets in IPL"
   ]
  },
  {
   "cell_type": "markdown",
   "id": "968c70b9",
   "metadata": {},
   "source": [
    "##### total matches per season"
   ]
  },
  {
   "cell_type": "code",
   "execution_count": null,
   "id": "297995d0",
   "metadata": {},
   "outputs": [],
   "source": [
    "plt.figure(figsize=(16,16))\n",
    "df1['season'].value_counts().sort_values().plot(kind='bar')\n",
    "plt.xlabel('year')\n",
    "plt.ylabel('number of matches')\n",
    "plt.show()"
   ]
  },
  {
   "cell_type": "markdown",
   "id": "79af68bf",
   "metadata": {},
   "source": [
    "Having the correlation between each measured value of the dataset"
   ]
  },
  {
   "cell_type": "code",
   "execution_count": null,
   "id": "a9e0132c",
   "metadata": {},
   "outputs": [],
   "source": [
    "df2.corr()"
   ]
  },
  {
   "cell_type": "code",
   "execution_count": null,
   "id": "07559352",
   "metadata": {},
   "outputs": [],
   "source": [
    "df2.corr()\n",
    "plt.figure(figsize=(16,16))\n",
    "sns.heatmap(df2.corr())\n",
    "plt.show()"
   ]
  },
  {
   "cell_type": "markdown",
   "id": "694e7e6d",
   "metadata": {},
   "source": [
    "######   Season wise match results"
   ]
  },
  {
   "cell_type": "code",
   "execution_count": null,
   "id": "ab10b6c8",
   "metadata": {},
   "outputs": [],
   "source": [
    "plt.figure(figsize=(16,16))\n",
    "sns.countplot(x=df1['season'],hue=df1['result'],data=df1)\n",
    "plt.xticks(rotation=90)\n",
    "plt.show()"
   ]
  },
  {
   "cell_type": "markdown",
   "id": "0bc2f5cb",
   "metadata": {},
   "source": [
    "######   Total runs made by each winner"
   ]
  },
  {
   "cell_type": "code",
   "execution_count": null,
   "id": "3d7c3bd5",
   "metadata": {},
   "outputs": [],
   "source": [
    "plt.figure(figsize= (16,16))\n",
    "sns.countplot(y='winner',data=df2)\n",
    "plt.show()"
   ]
  },
  {
   "cell_type": "markdown",
   "id": "147c0139",
   "metadata": {},
   "source": [
    "######  Most Number of times toss winners"
   ]
  },
  {
   "cell_type": "code",
   "execution_count": null,
   "id": "d0a97c5e",
   "metadata": {},
   "outputs": [],
   "source": [
    "df1['toss_winner'].value_counts()"
   ]
  },
  {
   "cell_type": "code",
   "execution_count": null,
   "id": "2f29f732",
   "metadata": {},
   "outputs": [],
   "source": [
    "plt.figure(figsize=(16,16))\n",
    "df1['toss_winner'].value_counts().plot(kind='bar')\n",
    "plt.xlabel(\"team name\")\n",
    "plt.ylabel(\"toss_wins_time\")\n",
    "plt.show()"
   ]
  },
  {
   "cell_type": "markdown",
   "id": "6ae62ed3",
   "metadata": {},
   "source": [
    "######   Number of times a team has won the match after winning the toss"
   ]
  },
  {
   "cell_type": "code",
   "execution_count": null,
   "id": "115d8301",
   "metadata": {},
   "outputs": [],
   "source": [
    "np.sum(df1['toss_winner']==df1['winner'])"
   ]
  },
  {
   "cell_type": "code",
   "execution_count": null,
   "id": "c9da5a14",
   "metadata": {},
   "outputs": [],
   "source": []
  },
  {
   "cell_type": "code",
   "execution_count": null,
   "id": "0dc254c5",
   "metadata": {},
   "outputs": [],
   "source": []
  },
  {
   "cell_type": "markdown",
   "id": "645d9649",
   "metadata": {},
   "source": [
    "##     Task- 5  --------> Exploratory Data Analysis on Indian Premier League\n",
    "\n",
    "###      Completed\n",
    "\n",
    "## Data Science and Business Analytics Intern\n",
    "\n",
    "###       Name ------->   Swetanshu Pandey"
   ]
  },
  {
   "cell_type": "code",
   "execution_count": null,
   "id": "678ec293",
   "metadata": {},
   "outputs": [],
   "source": []
  },
  {
   "cell_type": "code",
   "execution_count": null,
   "id": "758cd19f",
   "metadata": {},
   "outputs": [],
   "source": []
  }
 ],
 "metadata": {
  "kernelspec": {
   "display_name": "Python 3 (ipykernel)",
   "language": "python",
   "name": "python3"
  },
  "language_info": {
   "codemirror_mode": {
    "name": "ipython",
    "version": 3
   },
   "file_extension": ".py",
   "mimetype": "text/x-python",
   "name": "python",
   "nbconvert_exporter": "python",
   "pygments_lexer": "ipython3",
   "version": "3.9.7"
  }
 },
 "nbformat": 4,
 "nbformat_minor": 5
}
