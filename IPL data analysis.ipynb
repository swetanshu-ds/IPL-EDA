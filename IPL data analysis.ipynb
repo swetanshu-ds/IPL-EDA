{
 "cells": [
  {
   "cell_type": "markdown",
   "id": "f99a8f23",
   "metadata": {},
   "source": [
    "![](IPL.png)"
   ]
  },
  {
   "cell_type": "markdown",
   "id": "057ff30a",
   "metadata": {},
   "source": [
    "######  Importing important libraries   "
   ]
  },
  {
   "cell_type": "code",
   "execution_count": null,
   "id": "fbd02a34",
   "metadata": {},
   "outputs": [],
   "source": [
    "import pandas as pd"
   ]
  },
  {
   "cell_type": "code",
   "execution_count": null,
   "id": "52973efd",
   "metadata": {},
   "outputs": [],
   "source": [
    "import numpy as np"
   ]
  },
  {
   "cell_type": "code",
   "execution_count": null,
   "id": "5702723c",
   "metadata": {},
   "outputs": [],
   "source": [
    "import seaborn as sns"
   ]
  },
  {
   "cell_type": "code",
   "execution_count": null,
   "id": "6d683d09",
   "metadata": {},
   "outputs": [],
   "source": [
    "import matplotlib.pyplot as plt"
   ]
  },
  {
   "cell_type": "code",
   "execution_count": null,
   "id": "997401c4",
   "metadata": {},
   "outputs": [],
   "source": [
    "%matplotlib inline"
   ]
  },
  {
   "cell_type": "markdown",
   "id": "e9cfff51",
   "metadata": {},
   "source": [
    "###### Importing datasets"
   ]
  },
  {
   "cell_type": "code",
   "execution_count": null,
   "id": "654756c3",
   "metadata": {},
   "outputs": [],
   "source": [
    "df = pd.read_csv(\"deliveries.csv\")"
   ]
  },
  {
   "cell_type": "code",
   "execution_count": null,
   "id": "1cc10619",
   "metadata": {},
   "outputs": [],
   "source": [
    "df1 = pd.read_csv('matches.csv')"
   ]
  },
  {
   "cell_type": "markdown",
   "id": "90f59035",
   "metadata": {},
   "source": [
    "###### Show top 5 rows of the datasets"
   ]
  },
  {
   "cell_type": "code",
   "execution_count": null,
   "id": "a545a27e",
   "metadata": {},
   "outputs": [],
   "source": [
    "df.head()"
   ]
  },
  {
   "cell_type": "code",
   "execution_count": null,
   "id": "d5cec7f6",
   "metadata": {},
   "outputs": [],
   "source": [
    "df1.head()"
   ]
  },
  {
   "cell_type": "markdown",
   "id": "e4c66e1c",
   "metadata": {},
   "source": [
    "######  Missing data"
   ]
  },
  {
   "cell_type": "code",
   "execution_count": null,
   "id": "7be18471",
   "metadata": {},
   "outputs": [],
   "source": [
    "df.isnull()"
   ]
  },
  {
   "cell_type": "code",
   "execution_count": null,
   "id": "15b97a83",
   "metadata": {},
   "outputs": [],
   "source": [
    "df1.isnull()"
   ]
  },
  {
   "cell_type": "code",
   "execution_count": null,
   "id": "52ae029d",
   "metadata": {},
   "outputs": [],
   "source": [
    "df.shape"
   ]
  },
  {
   "cell_type": "code",
   "execution_count": null,
   "id": "a4876cbe",
   "metadata": {},
   "outputs": [],
   "source": [
    "df1.shape"
   ]
  },
  {
   "cell_type": "code",
   "execution_count": null,
   "id": "7b75a9f1",
   "metadata": {},
   "outputs": [],
   "source": [
    "df.size"
   ]
  },
  {
   "cell_type": "code",
   "execution_count": null,
   "id": "4c2ce14c",
   "metadata": {},
   "outputs": [],
   "source": [
    "df1.size"
   ]
  },
  {
   "cell_type": "markdown",
   "id": "420da95d",
   "metadata": {},
   "source": [
    "###### Columns of the datasets"
   ]
  },
  {
   "cell_type": "code",
   "execution_count": null,
   "id": "fd6f94be",
   "metadata": {},
   "outputs": [],
   "source": [
    "df.columns"
   ]
  },
  {
   "cell_type": "code",
   "execution_count": null,
   "id": "206f8706",
   "metadata": {},
   "outputs": [],
   "source": [
    "df1.columns"
   ]
  },
  {
   "cell_type": "code",
   "execution_count": null,
   "id": "042f8bac",
   "metadata": {},
   "outputs": [],
   "source": [
    "#####   data types of datasets"
   ]
  },
  {
   "cell_type": "code",
   "execution_count": null,
   "id": "071c226c",
   "metadata": {},
   "outputs": [],
   "source": [
    "df.dtypes"
   ]
  },
  {
   "cell_type": "code",
   "execution_count": null,
   "id": "9b26d90a",
   "metadata": {},
   "outputs": [],
   "source": [
    "df1.dtypes"
   ]
  },
  {
   "cell_type": "code",
   "execution_count": null,
   "id": "3875357a",
   "metadata": {},
   "outputs": [],
   "source": [
    "df.info"
   ]
  },
  {
   "cell_type": "code",
   "execution_count": null,
   "id": "ee703262",
   "metadata": {},
   "outputs": [],
   "source": [
    "df1.info"
   ]
  },
  {
   "cell_type": "code",
   "execution_count": null,
   "id": "36e2643d",
   "metadata": {},
   "outputs": [],
   "source": [
    "df.describe()"
   ]
  },
  {
   "cell_type": "code",
   "execution_count": null,
   "id": "b8e53374",
   "metadata": {},
   "outputs": [],
   "source": [
    "df1.describe()"
   ]
  },
  {
   "cell_type": "code",
   "execution_count": null,
   "id": "c05df423",
   "metadata": {},
   "outputs": [],
   "source": [
    "###### check duplicates values"
   ]
  },
  {
   "cell_type": "code",
   "execution_count": null,
   "id": "88300110",
   "metadata": {},
   "outputs": [],
   "source": [
    "df[df.duplicated()]"
   ]
  },
  {
   "cell_type": "code",
   "execution_count": null,
   "id": "7eaf577d",
   "metadata": {},
   "outputs": [],
   "source": [
    "#   there are 23 rows that are duplicates in df dataset"
   ]
  },
  {
   "cell_type": "code",
   "execution_count": null,
   "id": "2247fff0",
   "metadata": {},
   "outputs": [],
   "source": [
    "df1[df1.duplicated()]"
   ]
  },
  {
   "cell_type": "code",
   "execution_count": null,
   "id": "3c45a598",
   "metadata": {},
   "outputs": [],
   "source": [
    "###########   there is no duplicates in df1 dataset"
   ]
  },
  {
   "cell_type": "markdown",
   "id": "84e28740",
   "metadata": {},
   "source": [
    "######  Remove duplicated records"
   ]
  },
  {
   "cell_type": "code",
   "execution_count": null,
   "id": "19774806",
   "metadata": {},
   "outputs": [],
   "source": [
    "df.drop_duplicates(inplace=True)"
   ]
  },
  {
   "cell_type": "code",
   "execution_count": null,
   "id": "144e5219",
   "metadata": {},
   "outputs": [],
   "source": [
    "df1.drop_duplicates(inplace=True)"
   ]
  },
  {
   "cell_type": "code",
   "execution_count": null,
   "id": "4cbdc58d",
   "metadata": {},
   "outputs": [],
   "source": [
    "####   Now check shape and size of the datasets after dropping duplicates "
   ]
  },
  {
   "cell_type": "code",
   "execution_count": null,
   "id": "8ba3fda3",
   "metadata": {},
   "outputs": [],
   "source": [
    "df.shape"
   ]
  },
  {
   "cell_type": "code",
   "execution_count": null,
   "id": "2b72782b",
   "metadata": {},
   "outputs": [],
   "source": [
    "df.size"
   ]
  },
  {
   "cell_type": "code",
   "execution_count": null,
   "id": "f31d66bd",
   "metadata": {},
   "outputs": [],
   "source": [
    "df1.shape"
   ]
  },
  {
   "cell_type": "markdown",
   "id": "2eb5aa74",
   "metadata": {},
   "source": [
    "df1.size"
   ]
  },
  {
   "cell_type": "markdown",
   "id": "ba9deccd",
   "metadata": {},
   "source": [
    "Now check missing values"
   ]
  },
  {
   "cell_type": "code",
   "execution_count": null,
   "id": "43363cf9",
   "metadata": {},
   "outputs": [],
   "source": [
    "df.isnull().sum()"
   ]
  },
  {
   "cell_type": "code",
   "execution_count": null,
   "id": "3c5d578c",
   "metadata": {},
   "outputs": [],
   "source": [
    "#######   there are so many missing values in player_dismissed,dismissal_kind,fielder  columns"
   ]
  },
  {
   "cell_type": "code",
   "execution_count": null,
   "id": "fb7c5d1f",
   "metadata": {},
   "outputs": [],
   "source": [
    "df1.isnull().sum()"
   ]
  },
  {
   "cell_type": "code",
   "execution_count": null,
   "id": "46e0119a",
   "metadata": {},
   "outputs": [],
   "source": [
    "#######   there are so many missing values in city,winner,player_of_match,umpire1,umpire2,umpire3"
   ]
  },
  {
   "cell_type": "code",
   "execution_count": null,
   "id": "f1c627ef",
   "metadata": {},
   "outputs": [],
   "source": [
    "#####  Check total unique values"
   ]
  },
  {
   "cell_type": "code",
   "execution_count": null,
   "id": "4586001a",
   "metadata": {},
   "outputs": [],
   "source": [
    "df.nunique()"
   ]
  },
  {
   "cell_type": "code",
   "execution_count": null,
   "id": "470f8596",
   "metadata": {},
   "outputs": [],
   "source": [
    "df1.nunique()"
   ]
  },
  {
   "cell_type": "markdown",
   "id": "df27452e",
   "metadata": {},
   "source": [
    "### Now merge the datasets df and df1"
   ]
  },
  {
   "cell_type": "code",
   "execution_count": null,
   "id": "fc683fbd",
   "metadata": {},
   "outputs": [],
   "source": [
    "df2 = pd.merge(df,df1,left_on='match_id',right_on=\"id\")"
   ]
  },
  {
   "cell_type": "code",
   "execution_count": null,
   "id": "7ff3bb49",
   "metadata": {},
   "outputs": [],
   "source": [
    "df2.head()"
   ]
  },
  {
   "cell_type": "code",
   "execution_count": null,
   "id": "bd73da02",
   "metadata": {},
   "outputs": [],
   "source": [
    "df2.describe()"
   ]
  },
  {
   "cell_type": "markdown",
   "id": "0734b05a",
   "metadata": {},
   "source": [
    "######  Visualizing our data"
   ]
  },
  {
   "cell_type": "code",
   "execution_count": null,
   "id": "db7682e8",
   "metadata": {},
   "outputs": [],
   "source": [
    "###   Number of inning in ipl"
   ]
  },
  {
   "cell_type": "code",
   "execution_count": null,
   "id": "f9808749",
   "metadata": {},
   "outputs": [],
   "source": [
    "sns.countplot(x='inning',data = df2)"
   ]
  },
  {
   "cell_type": "code",
   "execution_count": null,
   "id": "d0c8245b",
   "metadata": {},
   "outputs": [],
   "source": [
    "###   Number of matches played in each season"
   ]
  },
  {
   "cell_type": "code",
   "execution_count": null,
   "id": "b7c8f536",
   "metadata": {},
   "outputs": [],
   "source": [
    "sns.countplot(x='season',data = df2)"
   ]
  },
  {
   "cell_type": "code",
   "execution_count": null,
   "id": "de454c15",
   "metadata": {},
   "outputs": [],
   "source": [
    "####  From above diagram we can see that ,in year 2014 ,season have most of the matches"
   ]
  },
  {
   "cell_type": "code",
   "execution_count": null,
   "id": "beeda27f",
   "metadata": {},
   "outputs": [],
   "source": [
    "#####  Winners of each season"
   ]
  },
  {
   "cell_type": "code",
   "execution_count": null,
   "id": "ba6e61e4",
   "metadata": {},
   "outputs": [],
   "source": [
    "plt.figure(figsize=(32,8))\n",
    "sns.countplot(x='winner',data=df2)\n",
    "plt.title(\"Number of winners in seach season\")\n",
    "plt.xlabel(\"winner\")\n",
    "plt.ylabel('Number of runs')"
   ]
  },
  {
   "cell_type": "code",
   "execution_count": null,
   "id": "d3820e6f",
   "metadata": {},
   "outputs": [],
   "source": [
    "####  Number of unique stadiums teams played on"
   ]
  },
  {
   "cell_type": "code",
   "execution_count": null,
   "id": "805d68f2",
   "metadata": {},
   "outputs": [],
   "source": [
    "plt.figure(figsize=(32,10))\n",
    "df2.groupby('batting_team')['venue'].nunique().plot(kind='bar',fontsize=22)\n",
    "plt.xlabel('Team name')\n",
    "plt.ylabel('Played match on a stadium')"
   ]
  },
  {
   "cell_type": "markdown",
   "id": "0089230a",
   "metadata": {},
   "source": [
    "######   Teams Played in each season"
   ]
  },
  {
   "cell_type": "code",
   "execution_count": null,
   "id": "83349e00",
   "metadata": {},
   "outputs": [],
   "source": [
    "plt.figure(figsize = (32,8))\n",
    "df2.groupby('season')['team1'].nunique().plot(kind='bar')\n",
    "plt.title('Team played in eac season',fontsize=30)\n",
    "plt.xlabel(\"Season\",fontsize=30)\n",
    "plt.ylabel(\"number of team\",fontsize=15)"
   ]
  },
  {
   "cell_type": "markdown",
   "id": "1afa6014",
   "metadata": {},
   "source": [
    "######  Venue most hosted"
   ]
  },
  {
   "cell_type": "code",
   "execution_count": null,
   "id": "181a4ab5",
   "metadata": {},
   "outputs": [],
   "source": [
    "plt.figure(figsize=(32,16))\n",
    "sns.countplot(x='venue',data=df2,order=df2['venue'].value_counts().index)\n",
    "plt.title(\"Venue where most IPL matches played\")\n",
    "plt.xticks(rotation=90)\n",
    "plt.xlabel(\"winner\",fontsize=40)\n",
    "plt.ylabel('Number of matches',fontsize=40)"
   ]
  },
  {
   "cell_type": "markdown",
   "id": "6c747727",
   "metadata": {},
   "source": [
    "########  Eden garden was the place where most number of matches was played"
   ]
  },
  {
   "cell_type": "markdown",
   "id": "5437d21d",
   "metadata": {},
   "source": [
    "######   Season wise winning teams"
   ]
  },
  {
   "cell_type": "code",
   "execution_count": null,
   "id": "90079f3b",
   "metadata": {},
   "outputs": [],
   "source": [
    "winning_teams=df2[['season','winner']]\n",
    "winner_team = {}\n",
    "for i in sorted(winning_teams.season.unique()):\n",
    "    winner_team[i]=winning_teams[winning_teams.season==i]['winner'].tail(1).values[0]\n",
    "winner_IPL=pd.Series(winner_team)\n",
    "winner_IPL = pd.DataFrame(winner_IPL,columns=['winner team'])\n",
    "print(\"Winner are\",winner_IPL)"
   ]
  },
  {
   "cell_type": "code",
   "execution_count": null,
   "id": "97c70222",
   "metadata": {},
   "outputs": [],
   "source": [
    "plt.figure(figsize=(32,8))\n",
    "winner_IPL['winner team'].value_counts().plot(kind='bar')\n",
    "plt.title('Winner of IPL across 11 country',fontsize=15)\n",
    "plt.xlabel(\"team\",fontsize=20)\n",
    "plt.ylabel(\"No. of seasons\",fontsize=20)"
   ]
  },
  {
   "cell_type": "markdown",
   "id": "fb63d3df",
   "metadata": {},
   "source": [
    "###### How many choose to ball and bat first?"
   ]
  },
  {
   "cell_type": "code",
   "execution_count": null,
   "id": "d2fc21f0",
   "metadata": {},
   "outputs": [],
   "source": [
    "plt.figure(figsize=(32,8))\n",
    "(df2['toss_decision'].value_counts()).plot(kind='pie',autopct='%1.1f%%',fontsize=20)\n",
    "plt.title(\"Decision to bat or ball\",fontsize=20)"
   ]
  },
  {
   "cell_type": "code",
   "execution_count": null,
   "id": "f62038fd",
   "metadata": {},
   "outputs": [],
   "source": [
    "####   so most of the teams choose to field first "
   ]
  },
  {
   "cell_type": "markdown",
   "id": "61f8dde2",
   "metadata": {},
   "source": [
    "######   How many actually won after winning toss?"
   ]
  },
  {
   "cell_type": "code",
   "execution_count": null,
   "id": "8c9c5c19",
   "metadata": {},
   "outputs": [],
   "source": [
    "df2['tosswin_win']=np.where((df2.toss_winner==df2.winner),'Yes','No')\n",
    "plt.figure(figsize=(32,8))\n",
    "sns.countplot(x='tosswin_win',data=df2,hue='toss_decision',palette='viridis')\n",
    "plt.xlabel(\"Winning toss winning match\",fontsize=30)"
   ]
  },
  {
   "cell_type": "code",
   "execution_count": null,
   "id": "cb2580c1",
   "metadata": {},
   "outputs": [],
   "source": [
    "####  unique team toss decision after winning toss"
   ]
  },
  {
   "cell_type": "code",
   "execution_count": null,
   "id": "0f8fef09",
   "metadata": {},
   "outputs": [],
   "source": [
    "plt.figure(figsize=(32,8))\n",
    "sns.countplot(x = 'toss_winner',data=df1,hue = 'toss_decision',palette='rocket')\n",
    "plt.title(\"Individual team toss decision after winning toss\",fontsize=16)\n",
    "plt.xlabel(\"Teams\",fontsize=16)\n",
    "plt.xticks(rotation=90)\n",
    "plt.ylabel('Frequency',fontsize=18)"
   ]
  },
  {
   "cell_type": "markdown",
   "id": "d7731650",
   "metadata": {},
   "source": [
    "CSK choose to bat first even after winning toss but all teams choose to ball first"
   ]
  },
  {
   "cell_type": "markdown",
   "id": "97889f82",
   "metadata": {},
   "source": [
    "###### Most time man of the match"
   ]
  },
  {
   "cell_type": "code",
   "execution_count": null,
   "id": "15dffa34",
   "metadata": {},
   "outputs": [],
   "source": [
    "plt.figure(figsize=(24,8))\n",
    "sns.countplot(x='player_of_match',data=df1,order=df2['player_of_match'].value_counts().head(15).index,palette='rainbow')\n",
    "plt.title(\"Top players with most man of the match\",fontsize=15)\n",
    "plt.xlabel('Player name',fontsize=24)\n",
    "plt.ylabel('Frequency',fontsize=24)"
   ]
  },
  {
   "cell_type": "markdown",
   "id": "3dea1bbd",
   "metadata": {},
   "source": [
    "######  Highest run makers of IPL"
   ]
  },
  {
   "cell_type": "code",
   "execution_count": null,
   "id": "7eaeefcc",
   "metadata": {},
   "outputs": [],
   "source": [
    "df.groupby('batsman')['batsman_runs'].sum().sort_values(ascending=False).head(10).plot(kind='bar',figsize=(32,8))\n",
    "plt.title(\"Top scores of IPL\",fontsize=15)\n",
    "plt.xlabel('Player name',fontsize=24)\n",
    "plt.xticks(rotation=90)\n",
    "plt.ylabel('Runs got',fontsize=24)"
   ]
  },
  {
   "cell_type": "markdown",
   "id": "2b574e0d",
   "metadata": {},
   "source": [
    "Kohli and Raina are the top run makers of IPL"
   ]
  },
  {
   "cell_type": "markdown",
   "id": "d6a50dce",
   "metadata": {},
   "source": [
    "###### Top wicket takers of IPL"
   ]
  },
  {
   "cell_type": "code",
   "execution_count": null,
   "id": "04edfc23",
   "metadata": {},
   "outputs": [],
   "source": [
    "df.groupby('bowler')['player_dismissed'].count().sort_values(ascending=False).head(10).plot(kind='bar',figsize=(32,8),color='red')\n",
    "plt.title(\"Top wicket wickets of IPL\",fontsize=15)\n",
    "plt.xlabel('Bowlers',fontsize=24)\n",
    "plt.xticks(rotation=90)\n",
    "plt.ylabel('Total wickets taken',fontsize=24)"
   ]
  },
  {
   "cell_type": "markdown",
   "id": "a42e798d",
   "metadata": {},
   "source": [
    "Malinga and then Bravo has taken highest wickets in IPL"
   ]
  },
  {
   "cell_type": "markdown",
   "id": "1e5e317a",
   "metadata": {},
   "source": [
    "###### Total scored runs in a season"
   ]
  },
  {
   "cell_type": "code",
   "execution_count": null,
   "id": "532a54c5",
   "metadata": {},
   "outputs": [],
   "source": [
    "df2.groupby('season')['batsman_runs'].sum().plot(kind='bar',color='purple')\n",
    "plt.title('Total scoring runs over the seasons of the ipl',fontsize=24)\n",
    "plt.xlabel('Seasons',fontsize = 26)\n",
    "plt.ylim(5000,30000)\n",
    "plt.ylabel(\"total runs\")"
   ]
  },
  {
   "cell_type": "markdown",
   "id": "47b5cd43",
   "metadata": {},
   "source": [
    "##############################################################################################################################################################"
   ]
  },
  {
   "cell_type": "markdown",
   "id": "f70773d7",
   "metadata": {},
   "source": [
    "##############################################################################################################################################################"
   ]
  },
  {
   "cell_type": "markdown",
   "id": "21d1031a",
   "metadata": {},
   "source": [
    "#####  Analyzing the dataset\"s"
   ]
  },
  {
   "cell_type": "markdown",
   "id": "79af68bf",
   "metadata": {},
   "source": [
    "Having the correlation between each measured value of the dataset"
   ]
  },
  {
   "cell_type": "code",
   "execution_count": null,
   "id": "a9e0132c",
   "metadata": {},
   "outputs": [],
   "source": [
    "df2.corr()"
   ]
  },
  {
   "cell_type": "code",
   "execution_count": null,
   "id": "07559352",
   "metadata": {},
   "outputs": [],
   "source": [
    "df2.corr()\n",
    "plt.figure(figsize=(32,32))\n",
    "sns.heatmap(df2.corr())\n",
    "plt.show()"
   ]
  },
  {
   "cell_type": "markdown",
   "id": "4d89b650",
   "metadata": {},
   "source": [
    "##### Seeing which team prefers bat and which team prefers ball first"
   ]
  },
  {
   "cell_type": "code",
   "execution_count": null,
   "id": "cb2069cb",
   "metadata": {},
   "outputs": [],
   "source": [
    "df1['toss_decision'].value_counts()"
   ]
  },
  {
   "cell_type": "code",
   "execution_count": null,
   "id": "d9d208a3",
   "metadata": {},
   "outputs": [],
   "source": [
    "df2['toss_decision'].value_counts()"
   ]
  },
  {
   "cell_type": "code",
   "execution_count": null,
   "id": "ae636dff",
   "metadata": {},
   "outputs": [],
   "source": [
    "df1['season'].value_counts()"
   ]
  },
  {
   "cell_type": "code",
   "execution_count": null,
   "id": "085583db",
   "metadata": {},
   "outputs": [],
   "source": [
    "plt.figure(figsize = (12,5))\n",
    "sns.countplot(data= df1,x='season')\n",
    "plt.title('Number of matches season wise',fontsize=24)\n",
    "plt.ylabel(\"Number of matches\")\n",
    "plt.show()  "
   ]
  },
  {
   "cell_type": "code",
   "execution_count": null,
   "id": "ab10b6c8",
   "metadata": {},
   "outputs": [],
   "source": [
    "#####   Season wise match results\n",
    "plt.figure(figsize=(32,16))\n",
    "sns.countplot(x=df2['season'],hue=df2['result'])\n",
    "plt.xticks(rotation=90)\n",
    "plt.show()"
   ]
  },
  {
   "cell_type": "code",
   "execution_count": null,
   "id": "b42f86a6",
   "metadata": {},
   "outputs": [],
   "source": [
    "plt.figure(figsize= (32,16))\n",
    "sns.countplot(x=df2['venue'])\n",
    "plt.xticks(rotation=90)\n",
    "plt.show()"
   ]
  },
  {
   "cell_type": "code",
   "execution_count": null,
   "id": "3d7c3bd5",
   "metadata": {},
   "outputs": [],
   "source": [
    "plt.figure(figsize= (32,16))\n",
    "sns.countplot(y='winner',data=df2)\n",
    "plt.show()"
   ]
  },
  {
   "cell_type": "markdown",
   "id": "147c0139",
   "metadata": {},
   "source": [
    "######  Most Number of times toss winners"
   ]
  },
  {
   "cell_type": "code",
   "execution_count": null,
   "id": "d0a97c5e",
   "metadata": {},
   "outputs": [],
   "source": [
    "toss_win=df1['toss_winner'].value_counts()\n",
    "toss_win"
   ]
  },
  {
   "cell_type": "code",
   "execution_count": null,
   "id": "2f29f732",
   "metadata": {},
   "outputs": [],
   "source": [
    "plt.figure(figsize= (32,16))\n",
    "sns.barplot(y=toss_win,x=toss_win.index)\n",
    "plt.xticks(rotation=90)\n",
    "plt.show()"
   ]
  },
  {
   "cell_type": "markdown",
   "id": "1ea80642",
   "metadata": {},
   "source": [
    "####   Man of the match ,most time "
   ]
  },
  {
   "cell_type": "code",
   "execution_count": null,
   "id": "a4648c26",
   "metadata": {},
   "outputs": [],
   "source": [
    "MOM = df2['player_of_match'].value_counts()[:20]\n",
    "plt.figure(figsize=(32,16))\n",
    "sns.barplot(data=df2,y=MOM,x=MOM.index)"
   ]
  },
  {
   "cell_type": "code",
   "execution_count": null,
   "id": "4b1a5dff",
   "metadata": {},
   "outputs": [],
   "source": [
    "######   Number of times a team has won the match after winning the toss"
   ]
  },
  {
   "cell_type": "code",
   "execution_count": null,
   "id": "115d8301",
   "metadata": {},
   "outputs": [],
   "source": [
    "np.sum(df1['toss_winner']==df1['winner'])"
   ]
  },
  {
   "cell_type": "code",
   "execution_count": null,
   "id": "825f5d60",
   "metadata": {},
   "outputs": [],
   "source": [
    "#####   Teams that won for the batting first ,most time"
   ]
  },
  {
   "cell_type": "code",
   "execution_count": null,
   "id": "909fcce6",
   "metadata": {},
   "outputs": [],
   "source": [
    "bat_first=df1[df1['win_by_runs']!=0]\n",
    "bat_first"
   ]
  },
  {
   "cell_type": "markdown",
   "id": "bc178a48",
   "metadata": {},
   "source": [
    "#####  Batsman with highest sixes"
   ]
  },
  {
   "cell_type": "code",
   "execution_count": null,
   "id": "45037192",
   "metadata": {},
   "outputs": [],
   "source": [
    "c=df2.groupby('batsman').count()['batsman_runs'].sort_values(ascending=False).head(10)\n",
    "c"
   ]
  },
  {
   "cell_type": "code",
   "execution_count": null,
   "id": "2ff0b572",
   "metadata": {},
   "outputs": [],
   "source": [
    "plt.figure(figsize=(32,16))\n",
    "sns.barplot(data=df2,x=c.index,y=c)"
   ]
  },
  {
   "cell_type": "code",
   "execution_count": null,
   "id": "047d9639",
   "metadata": {},
   "outputs": [],
   "source": [
    "######   Top wicket takers"
   ]
  },
  {
   "cell_type": "code",
   "execution_count": null,
   "id": "76a0d6c3",
   "metadata": {},
   "outputs": [],
   "source": [
    "df2.groupby('bowler')['player_dismissed'].count().sort_values(ascending=False).head(10).plot(kind='bar',color='purple')\n",
    "plt.title(\"Top wicket taker of the IPL\")\n",
    "plt.xlabel(\"Bowler name\")\n",
    "plt.ylabel(\"No. of wickets taken\")\n",
    "plt.show()"
   ]
  },
  {
   "cell_type": "code",
   "execution_count": null,
   "id": "a42e7016",
   "metadata": {},
   "outputs": [],
   "source": []
  }
 ],
 "metadata": {
  "kernelspec": {
   "display_name": "Python 3 (ipykernel)",
   "language": "python",
   "name": "python3"
  },
  "language_info": {
   "codemirror_mode": {
    "name": "ipython",
    "version": 3
   },
   "file_extension": ".py",
   "mimetype": "text/x-python",
   "name": "python",
   "nbconvert_exporter": "python",
   "pygments_lexer": "ipython3",
   "version": "3.9.7"
  }
 },
 "nbformat": 4,
 "nbformat_minor": 5
}
